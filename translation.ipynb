{
 "cells": [
  {
   "cell_type": "code",
   "execution_count": 1,
   "id": "96dc8464-fa68-4c14-a8d1-d92269cb6aa7",
   "metadata": {},
   "outputs": [],
   "source": [
    "import csv\n",
    "import re\n",
    "import os\n",
    "import collections\n",
    "import torch\n",
    "import torch.nn as nn\n",
    "import torch.nn.functional as F\n",
    "import time\n",
    "import matplotlib.pyplot as plt\n",
    "from time import perf_counter\n",
    "from io import StringIO\n",
    "import random\n",
    "import tqdm\n",
    "\n",
    "%matplotlib inline"
   ]
  },
  {
   "cell_type": "code",
   "execution_count": 2,
   "id": "29f94ad3-be4b-43a4-8bfc-6bc3b7927ab1",
   "metadata": {},
   "outputs": [],
   "source": [
    "# Use to measure execution of a given block of code:\n",
    "# with catchtime():\n",
    "#   # code here\n",
    "class catchtime:\n",
    "    def __enter__(self):\n",
    "        self.start = perf_counter()\n",
    "        return self\n",
    "\n",
    "    def __exit__(self, type, value, traceback):\n",
    "        self.time = perf_counter() - self.start\n",
    "        self.readout = f'Time: {self.time:.3f} seconds'\n",
    "        print(self.readout)\n"
   ]
  },
  {
   "cell_type": "code",
   "execution_count": 3,
   "id": "0c5587f3-db0f-4695-ae4f-939238f2db85",
   "metadata": {},
   "outputs": [
    {
     "data": {
      "text/plain": [
       "'cuda'"
      ]
     },
     "execution_count": 3,
     "metadata": {},
     "output_type": "execute_result"
    }
   ],
   "source": [
    "device = \"cuda\" if torch.cuda.is_available() else \"cpu\"\n",
    "device"
   ]
  },
  {
   "cell_type": "code",
   "execution_count": 4,
   "id": "5c5ba025-9b3f-42ce-81e6-5147d74f102a",
   "metadata": {},
   "outputs": [],
   "source": [
    "sentences = []\n",
    "with open(\"jp_en_sentences.tsv\", 'r', encoding='utf-8-sig') as f:\n",
    "    raw = f.read()\n",
    "    raw = raw.replace(\"”\", \"\\\"\")\n",
    "    raw = raw.replace(\"“\", \"\\\"\")\n",
    "    rd = csv.DictReader(StringIO(raw), delimiter=\"\\t\")\n",
    "    for row in rd:\n",
    "        sentences.append((row['jp'], row['en']))\n",
    "jp = [jp for jp, _ in sentences]\n",
    "en = [en for _, en in sentences]\n"
   ]
  },
  {
   "cell_type": "code",
   "execution_count": 5,
   "id": "f2f6b844-fb3b-4c52-b49e-6c2e57978404",
   "metadata": {},
   "outputs": [
    {
     "name": "stdout",
     "output_type": "stream",
     "text": [
      "num sentence pairs:  264482\n"
     ]
    }
   ],
   "source": [
    "print(\"num sentence pairs: \", len(sentences))"
   ]
  },
  {
   "cell_type": "code",
   "execution_count": 6,
   "id": "417ce9da-bef3-49a1-852d-d83c6d069b9a",
   "metadata": {},
   "outputs": [],
   "source": [
    "block_size = 520\n",
    "BOS = \"BOS\"\n",
    "EOS = \"EOS\"\n",
    "jp_chars = sorted(list(set(\"\".join([jp for jp, en in sentences]))))\n",
    "jp_vocab_size = len(jp_chars)\n",
    "jp_stoi = { ch:i for i,ch in enumerate(jp_chars) }\n",
    "jp_stoi[EOS] = len(jp_stoi)\n",
    "jp_stoi[BOS] = len(jp_stoi)\n",
    "jp_itos = { i:ch for i,ch in enumerate(jp_chars) }\n",
    "jp_itos[len(jp_stoi)-2] = EOS\n",
    "jp_itos[len(jp_stoi)-1] = BOS\n",
    "\n",
    "JP_VOCAB_SIZE = len(jp_stoi)\n",
    "\n",
    "\n",
    "def encode_jp(sent):\n",
    "    enc = [jp_stoi[BOS]] + [jp_stoi[c] for i, c in enumerate(sent)]\n",
    "    enc += [jp_stoi[EOS]] * (block_size - len(enc))\n",
    "    return enc\n",
    "def decode_jp(encoded):\n",
    "    return \"\".join([jp_itos[c] for c in encoded])"
   ]
  },
  {
   "cell_type": "code",
   "execution_count": 7,
   "id": "aac57054-fc8f-4808-bcf9-e0e214ee2e3e",
   "metadata": {},
   "outputs": [
    {
     "data": {
      "text/plain": [
       "'BOSきみにちょっとしたものをもってきたよ。EOSEOSEOSEOSEOSEOSEOSEOSEOSEOSEOSEOSEOSEOSEOSEOSEOSEOSEOSEOSEOSEOSEOSEOSEOSEOSEOSEOSEOSEOSEOSEOSEOSEOSEOSEOSEOSEOSEOSEOSEOSEOSEOSEOSEOSEOSEOSEOSEOSEOSEOSEOSEOSEOSEOSEOSEOSEOSEOSEOSEOSEOSEOSEOSEOSEOSEOSEOSEOSEOSEOSEOSEOSEOSEOSEOSEOSEOSEOSEOSEOSEOSEOSEOSEOSEOSEOSEOSEOSEOSEOSEOSEOSEOSEOSEOSEOSEOSEOSEOSEOSEOSEOSEOSEOSEOSEOSEOSEOSEOSEOSEOSEOSEOSEOSEOSEOSEOSEOSEOSEOSEOSEOSEOSEOSEOSEOSEOSEOSEOSEOSEOSEOSEOSEOSEOSEOSEOSEOSEOSEOSEOSEOSEOSEOSEOSEOSEOSEOSEOSEOSEOSEOSEOSEOSEOSEOSEOSEOSEOSEOSEOSEOSEOSEOSEOSEOSEOSEOSEOSEOSEOSEOSEOSEOSEOSEOSEOSEOSEOSEOSEOSEOSEOSEOSEOSEOSEOSEOSEOSEOSEOSEOSEOSEOSEOSEOSEOSEOSEOSEOSEOSEOSEOSEOSEOSEOSEOSEOSEOSEOSEOSEOSEOSEOSEOSEOSEOSEOSEOSEOSEOSEOSEOSEOSEOSEOSEOSEOSEOSEOSEOSEOSEOSEOSEOSEOSEOSEOSEOSEOSEOSEOSEOSEOSEOSEOSEOSEOSEOSEOSEOSEOSEOSEOSEOSEOSEOSEOSEOSEOSEOSEOSEOSEOSEOSEOSEOSEOSEOSEOSEOSEOSEOSEOSEOSEOSEOSEOSEOSEOSEOSEOSEOSEOSEOSEOSEOSEOSEOSEOSEOSEOSEOSEOSEOSEOSEOSEOSEOSEOSEOSEOSEOSEOSEOSEOSEOSEOSEOSEOSEOSEOSEOSEOSEOSEOSEOSEOSEOSEOSEOSEOSEOSEOSEOSEOSEOSEOSEOSEOSEOSEOSEOSEOSEOSEOSEOSEOSEOSEOSEOSEOSEOSEOSEOSEOSEOSEOSEOSEOSEOSEOSEOSEOSEOSEOSEOSEOSEOSEOSEOSEOSEOSEOSEOSEOSEOSEOSEOSEOSEOSEOSEOSEOSEOSEOSEOSEOSEOSEOSEOSEOSEOSEOSEOSEOSEOSEOSEOSEOSEOSEOSEOSEOSEOSEOSEOSEOSEOSEOSEOSEOSEOSEOSEOSEOSEOSEOSEOSEOSEOSEOSEOSEOSEOSEOSEOSEOSEOSEOSEOSEOSEOSEOSEOSEOSEOSEOSEOSEOSEOSEOSEOSEOSEOSEOSEOSEOSEOSEOSEOSEOSEOSEOSEOSEOSEOSEOSEOSEOSEOSEOSEOSEOSEOSEOSEOSEOSEOSEOSEOSEOSEOSEOSEOSEOSEOSEOSEOSEOSEOSEOSEOSEOSEOSEOSEOSEOSEOSEOSEOSEOSEOSEOSEOSEOSEOSEOSEOSEOSEOSEOSEOSEOSEOSEOSEOSEOSEOS'"
      ]
     },
     "execution_count": 7,
     "metadata": {},
     "output_type": "execute_result"
    }
   ],
   "source": [
    "decode_jp(encode_jp(sentences[0][0]))"
   ]
  },
  {
   "cell_type": "code",
   "execution_count": 8,
   "id": "b353aed4-33ee-4457-95f8-7981821dbd9c",
   "metadata": {},
   "outputs": [],
   "source": [
    "class LinkedListIter:\n",
    "    def __init__(self, head):\n",
    "        self.head = head\n",
    "    def __next__(self):\n",
    "        if not self.head:\n",
    "            raise StopIteration\n",
    "        curr = self.head\n",
    "        self.head = self.head.next\n",
    "        return curr\n",
    "\n",
    "class LinkedList:\n",
    "    def __init__(self, contents):\n",
    "        self.contents = contents\n",
    "        self.next = None\n",
    "        self.cached_full = None\n",
    "\n",
    "    @staticmethod\n",
    "    def create(chunk):\n",
    "        curr = None\n",
    "        head = None\n",
    "        for c in chunk:\n",
    "            new = LinkedList(c)\n",
    "            if curr:\n",
    "                curr.next = new\n",
    "            else:\n",
    "                head = new\n",
    "            curr = new\n",
    "        head.cached_full = chunk\n",
    "        return head\n",
    "    def merge(self):\n",
    "        assert self.next\n",
    "        self.contents += self.next.contents\n",
    "        self.next = self.next.next\n",
    "\n",
    "    def __iter__(self):\n",
    "        return LinkedListIter(self)\n",
    "    def __repr__(self):\n",
    "        return f\"LL{{{self.contents}, {self.next}}}\"\n"
   ]
  },
  {
   "cell_type": "code",
   "execution_count": 9,
   "id": "c5ddc08b-2ad0-4417-a518-df7a0f6107e2",
   "metadata": {},
   "outputs": [],
   "source": [
    "def count_bigrams(chunks, weights):\n",
    "    counter = collections.Counter()\n",
    "    for chunk_i in range(len(chunks)):\n",
    "        chunk = chunks[chunk_i]\n",
    "        if not chunk.next:\n",
    "            continue\n",
    "        for c1, c2 in zip(chunk, chunk.next):\n",
    "            counter[(c1.contents, c2.contents)] += weights[chunk.cached_full]\n",
    "    return counter            \n",
    "        \n",
    "def merge(chunks, bigram, cnts, weights):\n",
    "    cnts[bigram] = 0\n",
    "    for chunk in chunks:\n",
    "        head = chunk\n",
    "        prev = None\n",
    "        while head:\n",
    "            if not head.next:\n",
    "                break\n",
    "            c1, c2 = head.contents, head.next.contents\n",
    "            if (c1, c2) == bigram:\n",
    "                head.merge()\n",
    "                if prev:\n",
    "                    cnts[(prev.contents, head.contents)] += weights[chunk.cached_full]\n",
    "                if head.next:\n",
    "                    cnts[(head.contents, head.next.contents)] += weights[chunk.cached_full]\n",
    "            prev = head\n",
    "            head = head.next\n",
    "\n",
    "def seed_merges(sentences):\n",
    "    out = {}\n",
    "    for sent in sentences:\n",
    "        for c in sent:\n",
    "            if c not in out:\n",
    "                out[c] = len(out)\n",
    "    return out\n",
    "\n",
    "def count_occurences(splits):\n",
    "    counter = collections.Counter()\n",
    "    for sent in splits:\n",
    "        for chunk in sent:\n",
    "            counter[chunk] += 1\n",
    "    return counter\n",
    "\n",
    "PRE_TOKENIZATION_REGEX = re.compile(r\"'s|'t|'re|'ve|'m|'ll|'d| ?\\w+|\\s|\\S\")\n",
    "\n",
    "def bpe(merges, sentences, vocab_size):\n",
    "    splits = [re.findall(PRE_TOKENIZATION_REGEX, s) for s in sentences]\n",
    "    weights = count_occurences(splits)\n",
    "    chunks = list(weights.keys())\n",
    "    for i in range(len(chunks)):\n",
    "        chunks[i] = LinkedList.create(chunks[i])\n",
    "    cnts = count_bigrams(chunks, weights)\n",
    "    for merge_id in range(vocab_size):\n",
    "        top = cnts.most_common(1)\n",
    "        if len(top) == 0:\n",
    "            return merges\n",
    "        top = top[0][0]\n",
    "        merges[\"\".join(top)] = len(merges)\n",
    "        merge(chunks, top, cnts, weights)\n",
    "    merges[EOS] = len(merges)\n",
    "    merges[BOS] = len(merges)\n",
    "    return merges\n",
    "\n",
    "def encode_en(sent, merges):\n",
    "    chunks = re.findall(PRE_TOKENIZATION_REGEX, sent)\n",
    "    for i in range(len(chunks)):\n",
    "        chunks[i] = LinkedList.create(chunks[i])\n",
    "    out = []\n",
    "    for chunk in chunks:\n",
    "        head = chunk\n",
    "        while head:\n",
    "            if not head.next:\n",
    "                break\n",
    "            c1, c2 = head.contents, head.next.contents\n",
    "            if (c1 + c2) in merges:\n",
    "                head.merge()\n",
    "            head = head.next\n",
    "    out = []\n",
    "    for chunk in chunks:\n",
    "        for c in chunk:\n",
    "            out.append(merges[c.contents])\n",
    "    out = [merges[BOS]] + out\n",
    "    out += [merges[EOS]] * (block_size - len(out))\n",
    "    return out\n",
    "\n",
    "def decode_en(enc, merges_reversed):\n",
    "    return \"\".join(merges_reversed[id] for id in enc)\n",
    "\n",
    "def print_encoded_chunks(encoded, merges_reversed):\n",
    "    \",\".join(rev[id] for id in enc)"
   ]
  },
  {
   "cell_type": "code",
   "execution_count": 10,
   "id": "3dc2ddef-8987-4342-8cc5-23c4728a8fb3",
   "metadata": {},
   "outputs": [
    {
     "name": "stdout",
     "output_type": "stream",
     "text": [
      "Pre BPE size: 147\n",
      "Time: 22.962 seconds\n",
      "Dict size: 1149\n"
     ]
    }
   ],
   "source": [
    "CNT = len(sentences)\n",
    "with catchtime():\n",
    "    merges = seed_merges([en for _, en in sentences])\n",
    "    print(f\"Pre BPE size: {len(merges)}\")\n",
    "    merges = bpe(merges, [en for _, en in sentences[:CNT]], 1000)\n",
    "    merges_reversed = {i: seq for seq, i in merges.items()}\n",
    "EN_VOCAB_SIZE = len(merges)\n",
    "print(f\"Dict size: {len(merges)}\")"
   ]
  },
  {
   "cell_type": "code",
   "execution_count": 11,
   "id": "9b962a48-801a-4d87-a656-64eb918d8076",
   "metadata": {},
   "outputs": [
    {
     "name": "stdout",
     "output_type": "stream",
     "text": [
      "Time: 0.000 seconds\n"
     ]
    }
   ],
   "source": [
    "VALIDATE_ROUNDTRIP = False\n",
    "with catchtime():\n",
    "    if VALIDATE_ROUNDTRIP:\n",
    "        for jp, en in sentences:\n",
    "            assert (roundtripped := decode_en(encode_en(en, merges), merges_reversed)).startswith(\"BOS\" + en), f\"{roundtripped=} {en=}\""
   ]
  },
  {
   "cell_type": "code",
   "execution_count": 12,
   "id": "1c6f3fae-5e47-4f92-b3b9-d4e97f53191a",
   "metadata": {},
   "outputs": [],
   "source": [
    "# Let's now split up the data into train and validation sets\n",
    "TEST_SIZE = 100\n",
    "TRAIN_SIZE = len(sentences) - TEST_SIZE\n",
    "train_data = sentences[:TRAIN_SIZE]\n",
    "val_data = sentences[TRAIN_SIZE:]\n",
    "\n",
    "def tensorify(sentence_pairs, merges):\n",
    "    jp = [encode_jp(jp) for jp, _ in sentence_pairs]\n",
    "    en = [encode_en(en, merges) for _, en in sentence_pairs]\n",
    "    jp_t, en_t = torch.tensor(jp), torch.tensor(en)\n",
    "    Y_train = torch.zeros_like(en_t)\n",
    "    Y_train[:, :-1] = en_t[:, 1:]\n",
    "    Y_train[:, -1] = merges[EOS]\n",
    "    return jp_t.to(device), en_t.to(device), Y_train.to(device)   "
   ]
  },
  {
   "cell_type": "code",
   "execution_count": 13,
   "id": "62eea708-c42d-48b2-9943-47057a98fbd4",
   "metadata": {},
   "outputs": [],
   "source": [
    "batch_size = 16\n",
    "\n",
    "def get_train_data():\n",
    "    pairs = []\n",
    "    for _ in range(batch_size):\n",
    "        ix = random.randint(0, TRAIN_SIZE-1)\n",
    "        pairs.append(train_data[ix])\n",
    "    return pairs\n",
    "\n",
    "def get_batch(split, merges):\n",
    "    # generate a small batch of data of inputs x and targets y\n",
    "    data = get_train_data() if split == 'train' else val_data\n",
    "    return tensorify(data, merges)\n",
    "\n",
    "@torch.no_grad()\n",
    "def estimate_loss_BROKEN(merges):\n",
    "    out = {}\n",
    "    model.eval()\n",
    "    for split in ['train', 'val']:\n",
    "        losses = torch.zeros(eval_iters)\n",
    "        for k in range(eval_iters):\n",
    "            X, Y = get_batch(split)\n",
    "            logits, loss = model(X, Y)\n",
    "            losses[k] = loss.item()\n",
    "        out[split] = losses.mean()\n",
    "    model.train()\n",
    "    return out\n",
    "\n",
    "Xjp_test, Xen_test, Y_test = get_batch('test', merges)"
   ]
  },
  {
   "cell_type": "code",
   "execution_count": 69,
   "id": "a3ffd382-7d4f-418a-873e-20d3686fee1c",
   "metadata": {},
   "outputs": [
    {
     "name": "stdout",
     "output_type": "stream",
     "text": [
      "0.890109 M parameters\n"
     ]
    }
   ],
   "source": [
    "n_emb = 64\n",
    "n_heads = 4\n",
    "n_layer = 4\n",
    "learning_rate = 1e-3\n",
    "dropout = .1\n",
    "\n",
    "class Head(nn.Module):\n",
    "    def __init__(self, head_size, masked=True):\n",
    "        super().__init__()\n",
    "        self.query = nn.Linear(n_emb, head_size, bias=False)\n",
    "        self.key = nn.Linear(n_emb, head_size, bias=False)\n",
    "        self.value = nn.Linear(n_emb, head_size, bias=False)\n",
    "        self.register_buffer('tril', torch.tril(torch.ones(block_size, block_size)))\n",
    "        \n",
    "        self.masked = masked\n",
    "\n",
    "        self.dropout = nn.Dropout(dropout)\n",
    "        \n",
    "    def forward(self, x):\n",
    "        B, T, C = x.shape\n",
    "        query = self.query(x)\n",
    "        key = self.key(x)\n",
    "        value = self.value(x)\n",
    "        weight = query @ key.transpose(-2, -1) * C ** -.5\n",
    "\n",
    "        if self.masked and not self.training:\n",
    "            weight = weight.masked_fill(self.tril[:T, :T] == 0, float('-inf'))\n",
    "        weight = F.softmax(weight, dim=-1)\n",
    "        weight = self.dropout(weight)\n",
    "\n",
    "        return weight @ value\n",
    "\n",
    "class CrossHead(nn.Module):\n",
    "    def __init__(self, head_size):\n",
    "        super().__init__()\n",
    "        self.query = nn.Linear(n_emb, head_size, bias=False)\n",
    "        self.key = nn.Linear(n_emb, head_size, bias=False)\n",
    "        self.value = nn.Linear(n_emb, head_size, bias=False)\n",
    "\n",
    "        self.dropout = nn.Dropout(dropout)\n",
    "        \n",
    "    def forward(self, x_dec, x_enc):\n",
    "        _, _, C = x_enc.shape\n",
    "        query = self.query(x_dec)\n",
    "        key = self.key(x_enc)\n",
    "        value = self.value(x_enc)\n",
    "        weight = query @ key.transpose(-2, -1) * C ** -.5\n",
    "\n",
    "        weight = F.softmax(weight, dim=-1)\n",
    "        weight = self.dropout(weight)\n",
    "\n",
    "        return weight @ value\n",
    "\n",
    "class MultiHead(nn.Module):\n",
    "    def __init__(self, num_heads, head_size, masked=True):\n",
    "        super().__init__()\n",
    "        self.heads = nn.ModuleList([Head(head_size, masked) for _ in range(num_heads)])\n",
    "        self.proj = nn.Linear(n_emb, n_emb)\n",
    "        self.dropout = nn.Dropout(dropout)\n",
    "    def forward(self, x):\n",
    "        out = torch.cat([h(x) for h in self.heads], dim=-1)\n",
    "        out = self.dropout(self.proj(out))\n",
    "        return out\n",
    "\n",
    "class MultiCrossHead(nn.Module):\n",
    "    def __init__(self, num_heads, head_size):\n",
    "        super().__init__()\n",
    "        self.heads = nn.ModuleList([CrossHead(head_size) for _ in range(num_heads)])\n",
    "        self.proj = nn.Linear(n_emb, n_emb)\n",
    "        self.dropout = nn.Dropout(dropout)\n",
    "    def forward(self, x_dec, x_enc):\n",
    "        out = torch.cat([h(x_dec, x_enc) for h in self.heads], dim=-1)\n",
    "        out = self.dropout(self.proj(out))\n",
    "        return out\n",
    "\n",
    "class FFBlock(nn.Module):\n",
    "    def __init__(self):\n",
    "        super().__init__()\n",
    "        self.network = nn.Sequential(\n",
    "            nn.Linear(n_emb, 4*n_emb),\n",
    "            nn.ReLU(),\n",
    "            nn.Linear(4*n_emb, n_emb),\n",
    "            nn.Dropout(dropout)\n",
    "        )\n",
    "    def forward(self, x):\n",
    "        return self.network(x)\n",
    "\n",
    "class DecoderBlock(nn.Module):\n",
    "    def __init__(self, num_heads):\n",
    "        super().__init__()\n",
    "        assert n_emb % num_heads == 0, f\"num_heads should divide n_emb evenly, found {n_emb}%{num_heads} = {n_emb % num_heads}\"\n",
    "        head_size = n_emb // num_heads\n",
    "        self.att = MultiHead(num_heads, head_size)\n",
    "        self.cross_attn = MultiCrossHead(num_heads, head_size)\n",
    "        self.ff = FFBlock()\n",
    "        self.ln1 = nn.LayerNorm(n_emb)\n",
    "        self.ln2 = nn.LayerNorm(n_emb)\n",
    "        self.ln3 = nn.LayerNorm(n_emb)\n",
    "        \n",
    "    def forward(self, x, x_enc):\n",
    "        x = x + self.att(self.ln1(x))\n",
    "        x = x + self.cross_attn(self.ln2(x), x_enc)\n",
    "        x = x + self.ff(self.ln3(x))\n",
    "        return x\n",
    "\n",
    "class EncoderBlock(nn.Module):\n",
    "    def __init__(self, num_heads):\n",
    "        super().__init__()\n",
    "        assert n_emb % num_heads == 0, f\"num_heads should divide n_emb evenly, found {n_emb}%{num_heads} = {n_emb % num_heads}\"\n",
    "        head_size = n_emb // num_heads\n",
    "        self.att = MultiHead(num_heads, head_size, masked=False)\n",
    "        self.ff = FFBlock()\n",
    "        self.ln1 = nn.LayerNorm(n_emb)\n",
    "        self.ln2 = nn.LayerNorm(n_emb)\n",
    "        \n",
    "    def forward(self, x):\n",
    "        x = x + self.att(self.ln1(x))\n",
    "        x = x + self.ff(self.ln2(x))\n",
    "        return x\n",
    "        \n",
    "\n",
    "class DecoderStack(nn.Module):\n",
    "    def __init__(self, num_stacks, num_heads):\n",
    "        super().__init__()\n",
    "        self.layers = nn.ModuleList([DecoderBlock(num_heads=num_heads) for _ in range(n_layer)])\n",
    "\n",
    "    def forward(self, x_dec, x_enc):\n",
    "        for layer in self.layers:\n",
    "            x_dec = layer(x_dec, x_enc)\n",
    "        return x_dec\n",
    "            \n",
    "class Model(nn.Module):\n",
    "\n",
    "    def __init__(self):\n",
    "        super().__init__()\n",
    "        # each token directly reads off the logits for the next token from a lookup table\n",
    "        self.enc_token_embedding_table = nn.Embedding(JP_VOCAB_SIZE, n_emb)\n",
    "        self.enc_position_embedding_table = nn.Embedding(block_size, n_emb)\n",
    "        self.dec_token_embedding_table = nn.Embedding(EN_VOCAB_SIZE, n_emb)\n",
    "        self.dec_position_embedding_table = nn.Embedding(block_size, n_emb)\n",
    "        self.decoder_blocks = DecoderStack(n_layer, n_heads)\n",
    "        self.encoder_blocks = nn.Sequential(*[EncoderBlock(num_heads=n_heads) for _ in range(n_layer)])\n",
    "        self.ln_f = nn.LayerNorm(n_emb) # final layer norm\n",
    "        self.lm_head = nn.Linear(n_emb, EN_VOCAB_SIZE)\n",
    "\n",
    "    def forward(self, enc_idx, dec_idx, targets=None):\n",
    "        B, T_enc = enc_idx.shape\n",
    "        _, T_dec = dec_idx.shape\n",
    "\n",
    "        # both (B,T_enc) tensor of integers\n",
    "        enc_tok_emb = self.enc_token_embedding_table(enc_idx) # (B,T_enc,C)\n",
    "        enc_pos_emb = self.enc_position_embedding_table(torch.arange(T_enc, device=device)) # (T_enc,C)\n",
    "\n",
    "        x_enc = enc_tok_emb + enc_pos_emb\n",
    "\n",
    "        y_enc = self.encoder_blocks(x_enc)\n",
    "\n",
    "        dec_tok_emb = self.dec_token_embedding_table(dec_idx) # (B,T_dec,C)\n",
    "        dec_pos_emb = self.dec_position_embedding_table(torch.arange(T_dec, device=device)) # (T_dec,C)\n",
    "\n",
    "        x_dec = dec_tok_emb + dec_pos_emb # (B,T_dec,C)\n",
    "        # HERE: x_enc -> y_enc\n",
    "        x = self.decoder_blocks.forward(x_dec, y_enc) # (B,T,C)\n",
    "        x = self.ln_f(x) # (B,T,C)\n",
    "        logits = self.lm_head(x) # (B,T,vocab_size)\n",
    "\n",
    "        if targets is None:\n",
    "            loss = None\n",
    "        else:\n",
    "            B, T, C = logits.shape\n",
    "            logits = logits.view(B*T, C)\n",
    "            targets = targets.view(B*T)\n",
    "            loss = F.cross_entropy(logits, targets)\n",
    "\n",
    "        return logits, loss\n",
    "\n",
    "    def generate(self, idx, max_new_tokens):\n",
    "        # idx is (B, T) array of indices in the current context\n",
    "        for _ in range(max_new_tokens):\n",
    "            # crop idx to the last block_size tokens\n",
    "            idx_cond = idx[:, -block_size:]\n",
    "            # get the predictions\n",
    "            logits, loss = self(idx_cond)\n",
    "            # focus only on the last time step\n",
    "            logits = logits[:, -1, :] # becomes (B, C)\n",
    "            # apply softmax to get probabilities\n",
    "            probs = F.softmax(logits, dim=-1) # (B, C)\n",
    "            # sample from the distribution\n",
    "            idx_next = torch.multinomial(probs, num_samples=1) # (B, 1)\n",
    "            # append sampled index to the running sequence\n",
    "            idx = torch.cat((idx, idx_next), dim=1) # (B, T+1)\n",
    "        return idx\n",
    "\n",
    "model = Model()\n",
    "m = model.to(device)\n",
    "# print the number of parameters in the model\n",
    "print(sum(p.numel() for p in m.parameters())/1e6, 'M parameters')\n",
    "\n",
    "optimizer = torch.optim.AdamW(m.parameters(), lr=learning_rate)\n",
    "\n",
    "losses=[]\n",
    "test_losses=[]"
   ]
  },
  {
   "cell_type": "code",
   "execution_count": 70,
   "id": "bee0bbf0-2b5b-4cf8-a8f7-be75c1a18875",
   "metadata": {
    "tags": []
   },
   "outputs": [],
   "source": [
    "import os\n",
    "MODEL_PATH = \"model.pt\"\n",
    "if os.path.exists(MODEL_PATH):\n",
    "    model.load_state_dict(torch.load(MODEL_PATH).state_dict())\n"
   ]
  },
  {
   "cell_type": "code",
   "execution_count": 18,
   "id": "35f29953-b7f6-4f6e-91c9-47bc8cb95265",
   "metadata": {
    "tags": []
   },
   "outputs": [
    {
     "name": "stderr",
     "output_type": "stream",
     "text": [
      "  0%|          | 2/100000 [00:00<6:57:36,  3.99it/s] "
     ]
    },
    {
     "name": "stdout",
     "output_type": "stream",
     "text": [
      "step 0 elapsed 0s: train: 0.1512\n"
     ]
    },
    {
     "name": "stderr",
     "output_type": "stream",
     "text": [
      " 20%|██        | 20002/100000 [54:10<3:37:00,  6.14it/s]"
     ]
    },
    {
     "name": "stdout",
     "output_type": "stream",
     "text": [
      "step 20000 elapsed 3250s: train: 0.0582\n"
     ]
    },
    {
     "name": "stderr",
     "output_type": "stream",
     "text": [
      " 40%|████      | 40002/100000 [1:48:09<2:41:45,  6.18it/s]"
     ]
    },
    {
     "name": "stdout",
     "output_type": "stream",
     "text": [
      "step 40000 elapsed 6489s: train: 0.0571\n"
     ]
    },
    {
     "name": "stderr",
     "output_type": "stream",
     "text": [
      " 60%|██████    | 60002/100000 [2:42:21<1:47:54,  6.18it/s]"
     ]
    },
    {
     "name": "stdout",
     "output_type": "stream",
     "text": [
      "step 60000 elapsed 9741s: train: 0.0703\n"
     ]
    },
    {
     "name": "stderr",
     "output_type": "stream",
     "text": [
      " 80%|████████  | 80002/100000 [3:36:19<53:56,  6.18it/s]  "
     ]
    },
    {
     "name": "stdout",
     "output_type": "stream",
     "text": [
      "step 80000 elapsed 12980s: train: 0.0641\n"
     ]
    },
    {
     "name": "stderr",
     "output_type": "stream",
     "text": [
      "100%|██████████| 100000/100000 [4:30:16<00:00,  6.17it/s]"
     ]
    },
    {
     "name": "stdout",
     "output_type": "stream",
     "text": [
      "step 99999 elapsed 16217s: train: 0.0759\n"
     ]
    },
    {
     "name": "stderr",
     "output_type": "stream",
     "text": [
      "\n"
     ]
    }
   ],
   "source": [
    "eval_interval = 20000\n",
    "max_iters = 100000\n",
    "start = time.time()\n",
    "for iter in tqdm.tqdm(range(max_iters)):\n",
    "    Xjp_train, Xen_train, Y_train = get_batch('train', merges)\n",
    "    logits, loss = m(Xjp_train, Xen_train, Y_train)\n",
    "    optimizer.zero_grad(set_to_none=True)\n",
    "    loss.backward()\n",
    "    optimizer.step()\n",
    "\n",
    "    losses.append(loss.item())\n",
    "\n",
    "    # every once in a while evaluate the loss on train and val sets\n",
    "    if iter % eval_interval == 0 or iter == max_iters - 1:\n",
    "        #_, test_loss = m(Xjp_test, Xen_test, Y_test)\n",
    "        #test_losses.append(test_loss.item())\n",
    "        #print(f\"step {iter} elapsed {time.time() - start:.0f}s: train: {loss.item():.4f} test: {test_loss.item():.4f}\")\n",
    "        test_losses.append(loss.item())\n",
    "        print(f\"step {iter} elapsed {time.time() - start:.0f}s: train: {loss.item():.4f}\")\n",
    "    else:\n",
    "        test_losses.append(test_losses[-1])\n"
   ]
  },
  {
   "cell_type": "code",
   "execution_count": 19,
   "id": "b4699972-193b-4987-918a-d3d8f92ec0cb",
   "metadata": {},
   "outputs": [
    {
     "data": {
      "image/png": "[encoded data removed]",
      "text/plain": [
       "<Figure size 640x480 with 1 Axes>"
      ]
     },
     "metadata": {},
     "output_type": "display_data"
    }
   ],
   "source": [
    "plt.plot(losses)\n",
    "plt.plot(test_losses)\n",
    "plt.show()"
   ]
  },
  {
   "cell_type": "code",
   "execution_count": 75,
   "id": "c303f6c3-b436-4c69-8b33-0e9650329730",
   "metadata": {
    "tags": []
   },
   "outputs": [
    {
     "name": "stdout",
     "output_type": "stream",
     "text": [
      "input=\"私は一日に100ユーロ稼ぎます。\"\n",
      "translated='BOSI enjoy 100 usual days in ten days.EOS'\n",
      "expected='I make €100 a day.'\n",
      "\n",
      "input=\"私は一日に100ユーロ稼ぎます。\"\n",
      "translated='BOSI am to earn to earnest under a day.EOS'\n",
      "expected='I make 100 euros per day.'\n",
      "\n",
      "input=\"すぐに諦めて昼寝をするかも知れない。\"\n",
      "translated='BOSWe want to keep to sleep on your day after lunch.EOS'\n",
      "expected='I may give up soon and just nap instead.'\n",
      "\n",
      "input=\"すぐに諦めて昼寝をするかも知れない。\"\n",
      "translated='BOSWe may know whether to a right nappo appreciates seat.EOS'\n",
      "expected='I may give up soon and just take a nap.'\n",
      "\n",
      "input=\"それはあなたが一人になりたくないからです。\"\n",
      "translated=\"BOSIt isn't so well get there an everything.EOS\"\n",
      "expected=\"It's because you don't want to be alone.\"\n",
      "\n",
      "input=\"それはあなたが一人になりたくないからです。\"\n",
      "translated='BOSThat will be a good person out of you.EOS'\n",
      "expected=\"That's because you don't want to be alone.\"\n",
      "\n",
      "input=\"そんなことは起きないでしょう。\"\n",
      "translated=\"BOSI won't join so so much.EOS\"\n",
      "expected=\"That won't happen.\"\n",
      "\n",
      "input=\"そんなことは起きないでしょう。\"\n",
      "translated=\"BOSDon't get it up so that.EOS\"\n",
      "expected=\"That sort of thing won't happen.\"\n",
      "\n",
      "input=\"彼は時々変です。\"\n",
      "translated='BOSHe is a praise.EOS'\n",
      "expected='Sometimes he can be a strange guy.'\n",
      "\n",
      "input=\"彼は時々変です。\"\n",
      "translated='BOSHe is my wife on change.EOS'\n",
      "expected=\"He's strange sometimes.\"\n",
      "\n"
     ]
    }
   ],
   "source": [
    "def generate_response(jp, merges, generator):\n",
    "    assert jp.shape[0] == 1\n",
    "    model.eval()\n",
    "    idx = torch.zeros((1,1), dtype=torch.long, device=device)\n",
    "    idx += merges[BOS]\n",
    "    # idx is (B, T) array of indices in the current context\n",
    "    for _ in range(block_size):\n",
    "        # crop idx to the last block_size tokens\n",
    "        idx_cond = idx[:, -block_size:]\n",
    "        # get the predictions\n",
    "        logits, loss = model(jp, idx_cond)\n",
    "        # focus only on the last time step\n",
    "        logits = logits[:, -1, :] # becomes (B, C)\n",
    "        # apply softmax to get probabilities\n",
    "        probs = F.softmax(logits, dim=-1) # (B, C)\n",
    "        # sample from the distribution\n",
    "        idx_next = torch.multinomial(probs, num_samples=1, generator=generator) # (B, 1)\n",
    "        # append sampled index to the running sequence\n",
    "        idx = torch.cat((idx, idx_next), dim=1) # (B, T+1)\n",
    "        if idx_next[0][0].item() == merges[EOS]:\n",
    "            break\n",
    "    model.train()\n",
    "    return idx\n",
    "\n",
    "def translate(jp, expected=None, generator=None):\n",
    "    encoded_jp = encode_jp(jp)\n",
    "    translated = decode_en(generate_response(torch.tensor([encoded_jp], device=device), merges, generator).tolist()[0], merges_reversed)\n",
    "    s = f\"input=\\\"{jp}\\\"\\n{translated=}\\n\"\n",
    "    if expected:\n",
    "        s += f\"{expected=}\"\n",
    "    return s\n",
    "start = 30\n",
    "n = 10\n",
    "g = torch.Generator(device=device)\n",
    "g.manual_seed(0)\n",
    "for i in range(n):\n",
    "    print(translate(sentences[start + i][0], sentences[start + i][1], g))\n",
    "    print()"
   ]
  },
  {
   "cell_type": "code",
   "execution_count": 63,
   "id": "7e2a8912-1040-4210-b627-0140dc8168b0",
   "metadata": {
    "tags": []
   },
   "outputs": [
    {
     "data": {
      "text/plain": [
       "'input=\"こんにちは\"\\ntranslated=\\'BOSAll.EOS\\'\\n'"
      ]
     },
     "execution_count": 63,
     "metadata": {},
     "output_type": "execute_result"
    }
   ],
   "source": [
    "translate(\"こんにちは\")"
   ]
  }
 ],
 "metadata": {
  "kernelspec": {
   "display_name": "Python 3 (ipykernel)",
   "language": "python",
   "name": "python3"
  },
  "language_info": {
   "codemirror_mode": {
    "name": "ipython",
    "version": 3
   },
   "file_extension": ".py",
   "mimetype": "text/x-python",
   "name": "python",
   "nbconvert_exporter": "python",
   "pygments_lexer": "ipython3",
   "version": "3.11.5"
  }
 },
 "nbformat": 4,
 "nbformat_minor": 5
}
